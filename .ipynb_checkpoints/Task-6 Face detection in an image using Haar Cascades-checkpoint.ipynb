{
 "cells": [
  {
   "cell_type": "markdown",
   "metadata": {},
   "source": [
    "# Face detection in an image using Haar Cascades"
   ]
  },
  {
   "cell_type": "code",
   "execution_count": 13,
   "metadata": {},
   "outputs": [],
   "source": [
    "import cv2"
   ]
  },
  {
   "cell_type": "code",
   "execution_count": 14,
   "metadata": {},
   "outputs": [],
   "source": [
    "import numpy as np"
   ]
  },
  {
   "cell_type": "code",
   "execution_count": 15,
   "metadata": {},
   "outputs": [],
   "source": [
    "cap=cv2.VideoCapture(0)"
   ]
  },
  {
   "cell_type": "code",
   "execution_count": 16,
   "metadata": {},
   "outputs": [],
   "source": [
    "face_cascade=cv2.CascadeClassifier(\"haarcascade_frontalface_default.xml\")"
   ]
  },
  {
   "cell_type": "markdown",
   "metadata": {},
   "source": [
    "CascadeClassifier function loads the xml file necessary for face detection."
   ]
  },
  {
   "cell_type": "code",
   "execution_count": null,
   "metadata": {},
   "outputs": [],
   "source": [
    "while True:\n",
    " _,frame=cap.read()\n",
    " gray=cv2.cvtColor(frame,cv2.COLOR_BGR2GRAY)\n",
    " faces=face_cascade.detectMultiScale(gray, 1.1, 5)\n",
    " for rect in faces:\n",
    "  (x,y,w,h)=rect\n",
    "  frame=cv2.rectangle(frame,(x,y),(x+w,y+h),(0,255,0),2) \n",
    "  cv2.imshow(\"frame\",frame)\n",
    " key=cv2.waitKey(1)\n",
    " if key==27:\n",
    "  break\n",
    "cap.release()\n",
    "cv2.destroyAllWindows()"
   ]
  },
  {
   "cell_type": "markdown",
   "metadata": {},
   "source": [
    "detectMultiScale function detects the image in grayscale,1.1 here represents the size of the video to be displayed and 5 is the pixel size and each frame of the video is pu in the variable faces so faces contain top left point,width and height of the rectangle(which is created around our face) which can be displayed by using cv.rectangle() function "
   ]
  },
  {
   "cell_type": "code",
   "execution_count": null,
   "metadata": {},
   "outputs": [],
   "source": []
  }
 ],
 "metadata": {
  "kernelspec": {
   "display_name": "Python 3",
   "language": "python",
   "name": "python3"
  },
  "language_info": {
   "codemirror_mode": {
    "name": "ipython",
    "version": 3
   },
   "file_extension": ".py",
   "mimetype": "text/x-python",
   "name": "python",
   "nbconvert_exporter": "python",
   "pygments_lexer": "ipython3",
   "version": "3.7.1"
  }
 },
 "nbformat": 4,
 "nbformat_minor": 2
}
