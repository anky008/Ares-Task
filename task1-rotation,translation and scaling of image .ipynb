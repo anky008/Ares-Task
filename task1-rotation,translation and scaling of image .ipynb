{
 "cells": [
  {
   "cell_type": "code",
   "execution_count": 4,
   "metadata": {},
   "outputs": [],
   "source": [
    "import cv2#importing opencv library\n",
    "import numpy as np#importing numpy library and using it as np"
   ]
  },
  {
   "cell_type": "code",
   "execution_count": 5,
   "metadata": {},
   "outputs": [],
   "source": [
    "img=cv2.imread(\"bat.jpg\")#imread function reads the image \"bat.jpg\" and stores it in img variable\n",
    "cv2.imshow(\"original image\", img)#imshow function displays the image with the name original image \n",
    "cv2.waitKey(0)#freezes the window so that image can be seen untill a key is pressed just like getch() in c++ \n",
    "cv2.destroyAllWindows()#destroys all the image windows on pressing a key"
   ]
  },
  {
   "cell_type": "code",
   "execution_count": 10,
   "metadata": {},
   "outputs": [],
   "source": [
    "scaled_img=cv2.resize(img,None,fx=2,fy=2)#resize function takes 4 parameters the image that is to be resized i.e img,None means that we have not specified any size ourself and fx=2,fy=2 means we have scaled the image 2 times its original size  \n",
    "cv2.imshow(\"scaled image\",scaled_img)\n",
    "cv2.waitKey(0)#freezes the window so that image can be seen untill a key is pressed just like getch() in c++ \n",
    "cv2.destroyAllWindows()#destroys all the image windows on pressing a key\n"
   ]
  },
  {
   "cell_type": "code",
   "execution_count": 15,
   "metadata": {},
   "outputs": [],
   "source": [
    "width=np.size(img,0)#size function retrurns the size of the image  here 0 represents x axis\n",
    "height=np.size(img,1)\n",
    "matrix_t=np.float32([[1,0,100],[0,1,100]])\n",
    "translated_img=cv2.warpAffine(img,matrix_t,(width,height))#warpAffine function takes the image a matrix as argument which contains the coordintaes of any point on x axis,any point on y axis and the distance by which it has to be translated so here image moves by 100px on x axis and 100px on y axis   \n",
    "cv2.imshow(\"translated_image\", translated_img)\n",
    "cv2.waitKey(0)#freezes the window so that image can be seen untill a key is pressed just like getch() in c++ \n",
    "cv2.destroyAllWindows()#destroys all the image windows on pressing a key"
   ]
  },
  {
   "cell_type": "code",
   "execution_count": 16,
   "metadata": {},
   "outputs": [],
   "source": [
    "matrix_r=cv2.cv2.getRotationMatrix2D((width/2,height/2),90,1)#getrotationmatrix2d funciton takes the center of image,angle by which image is to be rotated(which is 90 in this case),and scaling factor i.e how much the image(rotated) should be scaled wrt to the original image as argument it generates the coordinates of the points on the image wrt to the center point and stores in matrix_r \n",
    "rotated_img=cv2.warpAffine(img,matrix_r,(width,height))\n",
    "cv2.imshow(\"rotated_image\", rotated_img)\n",
    "cv2.waitKey(0)#freezes the window so that image can be seen untill a key is pressed just like getch() in c++ \n",
    "cv2.destroyAllWindows()#destroys all the image windows on pressing a key"
   ]
  },
  {
   "cell_type": "code",
   "execution_count": null,
   "metadata": {},
   "outputs": [],
   "source": []
  }
 ],
 "metadata": {
  "kernelspec": {
   "display_name": "Python 3",
   "language": "python",
   "name": "python3"
  },
  "language_info": {
   "codemirror_mode": {
    "name": "ipython",
    "version": 3
   },
   "file_extension": ".py",
   "mimetype": "text/x-python",
   "name": "python",
   "nbconvert_exporter": "python",
   "pygments_lexer": "ipython3",
   "version": "3.7.1"
  }
 },
 "nbformat": 4,
 "nbformat_minor": 2
}
